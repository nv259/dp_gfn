{
 "cells": [
  {
   "cell_type": "code",
   "execution_count": 1,
   "metadata": {},
   "outputs": [],
   "source": [
    "import torch\n",
    "import torch.nn as nn\n",
    "import torch.nn.functional as F"
   ]
  },
  {
   "cell_type": "code",
   "execution_count": 2,
   "metadata": {},
   "outputs": [
    {
     "data": {
      "text/plain": [
       "tensor([[ 0,  0,  0,  0,  0,  0],\n",
       "        [ 0,  0,  0, -1, -1, -1],\n",
       "        [ 0,  0,  0, -2, -2, -2],\n",
       "        [ 1,  1,  1,  0,  0,  0],\n",
       "        [ 1,  1,  1, -1, -1, -1],\n",
       "        [ 1,  1,  1, -2, -2, -2],\n",
       "        [ 2,  2,  2,  0,  0,  0],\n",
       "        [ 2,  2,  2, -1, -1, -1],\n",
       "        [ 2,  2,  2, -2, -2, -2]])"
      ]
     },
     "execution_count": 2,
     "metadata": {},
     "output_type": "execute_result"
    }
   ],
   "source": [
    "heads = torch.tensor([[[0, 0, 0], \n",
    "                       [1, 1, 1],\n",
    "                       [2, 2, 2]]])\n",
    "deps = - heads.clone().detach()\n",
    "\n",
    "head_indices = [0, 0, 0, 1, 1, 1, 2, 2, 2]\n",
    "dep_indices = [0, 1, 2, 0, 1, 2, 0, 1, 2]\n",
    "\n",
    "torch.cat([heads[0][head_indices], deps[0][dep_indices]], dim=-1)"
   ]
  },
  {
   "cell_type": "code",
   "execution_count": 3,
   "metadata": {},
   "outputs": [],
   "source": [
    "mlp = torch.nn.Sequential(\n",
    "    nn.Linear(768, 512),\n",
    "    nn.ReLU(),\n",
    "    nn.Linear(512, 256),\n",
    "    nn.ReLU(),\n",
    "    nn.Linear(256, 128)\n",
    ")"
   ]
  },
  {
   "cell_type": "code",
   "execution_count": 4,
   "metadata": {},
   "outputs": [
    {
     "data": {
      "text/plain": [
       "torch.Size([2, 160, 128])"
      ]
     },
     "execution_count": 4,
     "metadata": {},
     "output_type": "execute_result"
    }
   ],
   "source": [
    "batch = torch.randn(2, 160, 768)\n",
    "\n",
    "y = mlp(batch)\n",
    "y.shape"
   ]
  },
  {
   "cell_type": "code",
   "execution_count": 12,
   "metadata": {},
   "outputs": [
    {
     "data": {
      "text/plain": [
       "(torch.Size([64, 768]), torch.Size([64, 768]), torch.Size([10, 768, 768]))"
      ]
     },
     "execution_count": 12,
     "metadata": {},
     "output_type": "execute_result"
    }
   ],
   "source": [
    "bs = 64\n",
    "d_model = 768\n",
    "num_tags = 10\n",
    "\n",
    "D = torch.randn(bs, d_model)\n",
    "H = torch.randn(bs, d_model)\n",
    "W = torch.randn(num_tags, d_model, d_model)\n",
    "D.shape, H.shape, W.shape"
   ]
  },
  {
   "cell_type": "code",
   "execution_count": 13,
   "metadata": {},
   "outputs": [
    {
     "data": {
      "text/plain": [
       "tensor([-1.5888,  0.5531,  1.4528,  1.4503, -1.9977,  0.4667, -1.5103, -1.3849,\n",
       "         0.6369, -0.9968])"
      ]
     },
     "execution_count": 13,
     "metadata": {},
     "output_type": "execute_result"
    }
   ],
   "source": [
    "torch.randn(10)"
   ]
  },
  {
   "cell_type": "code",
   "execution_count": 14,
   "metadata": {},
   "outputs": [
    {
     "data": {
      "text/plain": [
       "(torch.Size([64, 1, 1, 768]),\n",
       " torch.Size([64, 1, 1, 768]),\n",
       " torch.Size([10, 768, 768]))"
      ]
     },
     "execution_count": 14,
     "metadata": {},
     "output_type": "execute_result"
    }
   ],
   "source": [
    "H = H.unsqueeze(1)\n",
    "H = H.unsqueeze(1)\n",
    "D = D.unsqueeze(1)\n",
    "D = D.unsqueeze(1)\n",
    "\n",
    "H.shape, D.shape, W.shape"
   ]
  },
  {
   "cell_type": "code",
   "execution_count": 16,
   "metadata": {},
   "outputs": [
    {
     "data": {
      "text/plain": [
       "torch.Size([64, 10, 1, 1])"
      ]
     },
     "execution_count": 16,
     "metadata": {},
     "output_type": "execute_result"
    }
   ],
   "source": [
    "S_lab = (H @ W @ D.transpose(-1, -2))\n",
    "S_lab.shape"
   ]
  },
  {
   "cell_type": "code",
   "execution_count": null,
   "metadata": {},
   "outputs": [
    {
     "data": {
      "text/plain": [
       "torch.Size([64, 10])"
      ]
     },
     "execution_count": 84,
     "metadata": {},
     "output_type": "execute_result"
    }
   ],
   "source": [
    "torch.reshape(\n",
    "    S_lab,\n",
    "    (S_lab.shape[0], num_tags)\n",
    ")"
   ]
  },
  {
   "cell_type": "code",
   "execution_count": 9,
   "metadata": {},
   "outputs": [
    {
     "ename": "NameError",
     "evalue": "name 'S_lab' is not defined",
     "output_type": "error",
     "traceback": [
      "\u001b[0;31m---------------------------------------------------------------------------\u001b[0m",
      "\u001b[0;31mNameError\u001b[0m                                 Traceback (most recent call last)",
      "Cell \u001b[0;32mIn[9], line 1\u001b[0m\n\u001b[0;32m----> 1\u001b[0m S_lab \u001b[38;5;241m=\u001b[39m torch\u001b[38;5;241m.\u001b[39mgather(\u001b[43mS_lab\u001b[49m, \u001b[38;5;241m2\u001b[39m, )\n",
      "\u001b[0;31mNameError\u001b[0m: name 'S_lab' is not defined"
     ]
    }
   ],
   "source": [
    "S_lab = torch.gather(S_lab, 2, )"
   ]
  },
  {
   "cell_type": "code",
   "execution_count": null,
   "metadata": {},
   "outputs": [],
   "source": []
  }
 ],
 "metadata": {
  "kernelspec": {
   "display_name": "dp_gfn",
   "language": "python",
   "name": "python3"
  },
  "language_info": {
   "codemirror_mode": {
    "name": "ipython",
    "version": 3
   },
   "file_extension": ".py",
   "mimetype": "text/x-python",
   "name": "python",
   "nbconvert_exporter": "python",
   "pygments_lexer": "ipython3",
   "version": "3.10.0"
  }
 },
 "nbformat": 4,
 "nbformat_minor": 2
}
