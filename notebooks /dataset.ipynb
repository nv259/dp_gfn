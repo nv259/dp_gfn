{
 "cells": [
  {
   "cell_type": "code",
   "execution_count": 4,
   "metadata": {},
   "outputs": [],
   "source": [
    "import torch\n",
    "import torch.nn as nn \n",
    "from torch.utils.data import Dataset, DataLoader\n",
    "import conllu"
   ]
  },
  {
   "cell_type": "code",
   "execution_count": 6,
   "metadata": {},
   "outputs": [],
   "source": [
    "data_file = open(\"/media/doublemint/SharedDisk/repo/GFlowNets-DP/dp_gfn/data/ud-treebanks-v2.14/UD_English-Atis/en_atis-ud-train.conllu\", 'r', encoding=\"utf-8\")\n",
    "\n",
    "sentences = []\n",
    "for tokenlist in conllu.parse_tree_incr(data_file):\n",
    "    sentences.append(tokenlist)"
   ]
  },
  {
   "cell_type": "code",
   "execution_count": 7,
   "metadata": {},
   "outputs": [],
   "source": [
    "sentence = sentences[0]"
   ]
  },
  {
   "cell_type": "code",
   "execution_count": 8,
   "metadata": {},
   "outputs": [
    {
     "data": {
      "text/plain": [
       "{'sent_id': '0001.train',\n",
       " 'text': 'what is the cost of a round trip flight from pittsburgh to atlanta beginning on april twenty fifth and returning on may sixth'}"
      ]
     },
     "execution_count": 8,
     "metadata": {},
     "output_type": "execute_result"
    }
   ],
   "source": [
    "sentence.metadata"
   ]
  },
  {
   "cell_type": "code",
   "execution_count": 9,
   "metadata": {},
   "outputs": [
    {
     "name": "stdout",
     "output_type": "stream",
     "text": [
      "# sent_id = 0001.train\n",
      "# text = what is the cost of a round trip flight from pittsburgh to atlanta beginning on april twenty fifth and returning on may sixth\n",
      "1\twhat\twhat\tPRON\t_\tPronType=Int,Rel\t0\troot\t_\t_\n",
      "2\tis\tbe\tAUX\t_\tMood=Ind|Number=Sing|Person=3|Tense=Pres|VerbForm=Fin\t1\tcop\t_\t_\n",
      "3\tthe\tthe\tDET\t_\tPronType=Art\t4\tdet\t_\t_\n",
      "4\tcost\tcost\tNOUN\t_\tNumber=Sing\t1\tnsubj\t_\t_\n",
      "5\tof\tof\tADP\t_\t_\t7\tcase\t_\t_\n",
      "6\ta\ta\tDET\t_\tPronType=Art\t7\tdet\t_\t_\n",
      "7\tround\tround\tNOUN\t_\tNumber=Sing\t4\tnmod\t_\t_\n",
      "8\ttrip\ttrip\tNOUN\t_\tNumber=Sing\t7\tcompound\t_\t_\n",
      "9\tflight\tflight\tNOUN\t_\tNumber=Sing\t7\tnmod\t_\t_\n",
      "10\tfrom\tfrom\tADP\t_\t_\t11\tcase\t_\t_\n",
      "11\tpittsburgh\tPittsburgh\tPROPN\t_\tNumber=Sing\t9\tnmod\t_\t_\n",
      "12\tto\tto\tADP\t_\t_\t13\tcase\t_\t_\n",
      "13\tatlanta\tAtlanta\tPROPN\t_\tNumber=Sing\t9\tnmod\t_\t_\n",
      "14\tbeginning\tbegin\tVERB\t_\tTense=Pres|VerbForm=Part\t9\tnmod\t_\t_\n",
      "15\ton\ton\tADP\t_\t_\t16\tcase\t_\t_\n",
      "16\tapril\tApril\tNOUN\t_\tNumber=Sing\t14\tnmod\t_\t_\n",
      "17\ttwenty\ttwenty\tNUM\t_\tNumType=Card\t16\tnummod\t_\t_\n",
      "18\tfifth\tfive\tADJ\t_\tDegree=Pos|NumType=Ord\t17\tcompound\t_\t_\n",
      "19\tand\tand\tCCONJ\t_\t_\t20\tcc\t_\t_\n",
      "20\treturning\treturn\tVERB\t_\tTense=Pres|VerbForm=Part\t14\tconj\t_\t_\n",
      "21\ton\ton\tADP\t_\t_\t22\tcase\t_\t_\n",
      "22\tmay\tMay\tNOUN\t_\tNumber=Sing\t20\tnmod\t_\t_\n",
      "23\tsixth\tsix\tADJ\t_\tDegree=Pos|NumType=Ord\t22\tamod\t_\t_\n",
      "\n",
      "\n"
     ]
    }
   ],
   "source": [
    "print(sentence.serialize())"
   ]
  },
  {
   "cell_type": "code",
   "execution_count": 19,
   "metadata": {},
   "outputs": [
    {
     "data": {
      "text/plain": [
       "0"
      ]
     },
     "execution_count": 19,
     "metadata": {},
     "output_type": "execute_result"
    }
   ],
   "source": [
    "child = child_node.children\n",
    "len(child_node.children)"
   ]
  },
  {
   "cell_type": "code",
   "execution_count": 23,
   "metadata": {},
   "outputs": [],
   "source": [
    "def indices_dep_tree(current_node: conllu.models.TokenTree, parent_index: int):\n",
    "    edges = [] \n",
    "    \n",
    "    current_index = current_node.token['id']\n",
    "    edges.append((parent_index, current_node.token['id']))\n",
    "    print(parent_index, current_node.token['id'])\n",
    "    \n",
    "    if current_node.children == 0:\n",
    "        return edges\n",
    "     \n",
    "    for child_node in current_node.children:\n",
    "        edges += indices_dep_tree(child_node, parent_index=current_node.token['id'])\n",
    "    \n",
    "    return edges "
   ]
  },
  {
   "cell_type": "code",
   "execution_count": 24,
   "metadata": {},
   "outputs": [
    {
     "name": "stdout",
     "output_type": "stream",
     "text": [
      "0 1\n",
      "1 2\n",
      "1 4\n",
      "4 3\n",
      "4 7\n",
      "7 5\n",
      "7 6\n",
      "7 8\n",
      "7 9\n",
      "9 11\n",
      "11 10\n",
      "9 13\n",
      "13 12\n",
      "9 14\n",
      "14 16\n",
      "16 15\n",
      "16 17\n",
      "17 18\n",
      "14 20\n",
      "20 19\n",
      "20 22\n",
      "22 21\n",
      "22 23\n"
     ]
    },
    {
     "data": {
      "text/plain": [
       "[(0, 1),\n",
       " (1, 2),\n",
       " (1, 4),\n",
       " (4, 3),\n",
       " (4, 7),\n",
       " (7, 5),\n",
       " (7, 6),\n",
       " (7, 8),\n",
       " (7, 9),\n",
       " (9, 11),\n",
       " (11, 10),\n",
       " (9, 13),\n",
       " (13, 12),\n",
       " (9, 14),\n",
       " (14, 16),\n",
       " (16, 15),\n",
       " (16, 17),\n",
       " (17, 18),\n",
       " (14, 20),\n",
       " (20, 19),\n",
       " (20, 22),\n",
       " (22, 21),\n",
       " (22, 23)]"
      ]
     },
     "execution_count": 24,
     "metadata": {},
     "output_type": "execute_result"
    }
   ],
   "source": [
    "id_tree = indices_dep_tree(sentence, 0)"
   ]
  },
  {
   "cell_type": "code",
   "execution_count": 76,
   "metadata": {},
   "outputs": [
    {
     "name": "stdout",
     "output_type": "stream",
     "text": [
      "TokenTree<token={id=2, form=is}, children=None>\n",
      "TokenTree<token={id=4, form=cost}, children=[...]>\n"
     ]
    }
   ],
   "source": [
    "for child in sentence.children:\n",
    "    print(child)"
   ]
  },
  {
   "cell_type": "code",
   "execution_count": 68,
   "metadata": {},
   "outputs": [
    {
     "name": "stdout",
     "output_type": "stream",
     "text": [
      "TokenTree<token={id=2, form=is}, children=None>\n",
      "TokenTree<token={id=4, form=cost}, children=[...]>\n"
     ]
    }
   ],
   "source": [
    "for child in sentence.children:\n",
    "    print(child)"
   ]
  }
 ],
 "metadata": {
  "kernelspec": {
   "display_name": "dp_gfn",
   "language": "python",
   "name": "python3"
  },
  "language_info": {
   "codemirror_mode": {
    "name": "ipython",
    "version": 3
   },
   "file_extension": ".py",
   "mimetype": "text/x-python",
   "name": "python",
   "nbconvert_exporter": "python",
   "pygments_lexer": "ipython3",
   "version": "3.10.0"
  }
 },
 "nbformat": 4,
 "nbformat_minor": 2
}
