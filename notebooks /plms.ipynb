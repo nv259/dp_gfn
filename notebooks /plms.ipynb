{
 "cells": [
  {
   "cell_type": "markdown",
   "metadata": {},
   "source": [
    "# Word Embeddings"
   ]
  },
  {
   "cell_type": "code",
   "execution_count": 5,
   "metadata": {},
   "outputs": [
    {
     "name": "stderr",
     "output_type": "stream",
     "text": [
      "/home/doublemint/.local/lib/python3.10/site-packages/tqdm/auto.py:21: TqdmWarning: IProgress not found. Please update jupyter and ipywidgets. See https://ipywidgets.readthedocs.io/en/stable/user_install.html\n",
      "  from .autonotebook import tqdm as notebook_tqdm\n",
      "/home/doublemint/anaconda3/envs/dp_gfn/lib/python3.10/site-packages/huggingface_hub/file_download.py:1132: FutureWarning: `resume_download` is deprecated and will be removed in version 1.0.0. Downloads always resume when possible. If you want to force a new download, use `force_download=True`.\n",
      "  warnings.warn(\n"
     ]
    }
   ],
   "source": [
    "import torch\n",
    "from transformers import AutoTokenizer, AutoModel\n",
    "\n",
    "\n",
    "# Load pre-trained BERT model and tokenizer\n",
    "tokenizer = AutoTokenizer.from_pretrained('google-bert/bert-base-uncased')\n",
    "model = AutoModel.from_pretrained('google-bert/bert-base-uncased')\n",
    "\n",
    "# Sentence to process\n",
    "sentences = [\"It's a tokenization example.\", \"This is Elon Musk\"]\n",
    "\n",
    "# Tokenize the sentence\n",
    "tokens = tokenizer(sentences, return_tensors='pt', add_special_tokens=False, padding='max_length')\n",
    "\n",
    "# Get token embeddings\n",
    "with torch.no_grad():\n",
    "    outputs = model(**tokens)\n",
    "    token_embeddings = outputs.last_hidden_state"
   ]
  },
  {
   "cell_type": "code",
   "execution_count": 6,
   "metadata": {},
   "outputs": [
    {
     "ename": "ModuleNotFoundError",
     "evalue": "No module named 'dp_gfn'",
     "output_type": "error",
     "traceback": [
      "\u001b[0;31m---------------------------------------------------------------------------\u001b[0m",
      "\u001b[0;31mModuleNotFoundError\u001b[0m                       Traceback (most recent call last)",
      "Cell \u001b[0;32mIn[6], line 1\u001b[0m\n\u001b[0;32m----> 1\u001b[0m \u001b[38;5;28;01mfrom\u001b[39;00m \u001b[38;5;21;01mdp_gfn\u001b[39;00m\u001b[38;5;21;01m.\u001b[39;00m\u001b[38;5;21;01mutils\u001b[39;00m\u001b[38;5;21;01m.\u001b[39;00m\u001b[38;5;21;01mpretrains\u001b[39;00m \u001b[38;5;28;01mimport\u001b[39;00m batch_token_embeddings_to_batch_word_embeddings\n\u001b[1;32m      4\u001b[0m batch_word_embeddings \u001b[38;5;241m=\u001b[39m batch_token_embeddings_to_batch_word_embeddings(\n\u001b[1;32m      5\u001b[0m     tokens\u001b[38;5;241m=\u001b[39mtokens,\n\u001b[1;32m      6\u001b[0m     token_embeddings\u001b[38;5;241m=\u001b[39mtoken_embeddings,\n\u001b[1;32m      7\u001b[0m     agg_func\u001b[38;5;241m=\u001b[39m\u001b[38;5;124m'\u001b[39m\u001b[38;5;124mmean\u001b[39m\u001b[38;5;124m'\u001b[39m,\n\u001b[1;32m      8\u001b[0m     max_word_length\u001b[38;5;241m=\u001b[39m\u001b[38;5;241m150\u001b[39m,\n\u001b[1;32m      9\u001b[0m )\n\u001b[1;32m     11\u001b[0m batch_word_embeddings\u001b[38;5;241m.\u001b[39mshape\n",
      "\u001b[0;31mModuleNotFoundError\u001b[0m: No module named 'dp_gfn'"
     ]
    }
   ],
   "source": [
    "from dp_gfn.utils.pretrains import batch_token_embeddings_to_batch_word_embeddings\n",
    "\n",
    "\n",
    "batch_word_embeddings = batch_token_embeddings_to_batch_word_embeddings(\n",
    "    tokens=tokens,\n",
    "    token_embeddings=token_embeddings,\n",
    "    agg_func='mean',\n",
    "    max_word_length=150,\n",
    ")\n",
    "\n",
    "batch_word_embeddings.shape"
   ]
  },
  {
   "cell_type": "code",
   "execution_count": 216,
   "metadata": {},
   "outputs": [],
   "source": [
    "batch_size = token_embeddings.shape[0]\n",
    "max_word_len = 160\n",
    "batch_embeddings = []\n",
    "\n",
    "for sample_idx in range(batch_size): \n",
    "    word_embeddings = []\n",
    "    start, end = 0, 0\n",
    "\n",
    "    #BatchEncoding.word_ids returns a list mapping words to tokens\n",
    "    for w_idx in set(tokens.word_ids(sample_idx)):\n",
    "        if w_idx is None: \n",
    "            break\n",
    "        \n",
    "        #BatchEncoding.word_to_tokens tells us which and how many tokens are used for the specific word\n",
    "        start, end = tokens.word_to_tokens(sample_idx, w_idx)\n",
    "        word_embedding = torch.mean(\n",
    "            token_embeddings[sample_idx][start: end],\n",
    "            dim = 0, \n",
    "        )\n",
    "        word_embeddings.append(word_embedding)\n",
    "    \n",
    "    word_embeddings = torch.stack(word_embeddings, dim=0)\n",
    "    word_embeddings = torch.cat([word_embeddings, token_embeddings[sample_idx][end: max_word_len - word_embeddings.shape[0] + end]], dim=0)\n",
    "    batch_embeddings.append(word_embeddings)"
   ]
  },
  {
   "cell_type": "code",
   "execution_count": 217,
   "metadata": {},
   "outputs": [
    {
     "data": {
      "text/plain": [
       "torch.Size([2, 160, 768])"
      ]
     },
     "execution_count": 217,
     "metadata": {},
     "output_type": "execute_result"
    }
   ],
   "source": [
    "batch_embeddings = torch.stack(batch_embeddings, dim=0).shape"
   ]
  }
 ],
 "metadata": {
  "kernelspec": {
   "display_name": "dp_gfn",
   "language": "python",
   "name": "python3"
  },
  "language_info": {
   "codemirror_mode": {
    "name": "ipython",
    "version": 3
   },
   "file_extension": ".py",
   "mimetype": "text/x-python",
   "name": "python",
   "nbconvert_exporter": "python",
   "pygments_lexer": "ipython3",
   "version": "3.10.0"
  }
 },
 "nbformat": 4,
 "nbformat_minor": 2
}
